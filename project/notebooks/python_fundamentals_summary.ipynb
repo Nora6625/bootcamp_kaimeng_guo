{
 "cells": [
  {
   "cell_type": "markdown",
   "id": "42bb98f4-9767-4b0a-ae04-f2e1ba07ebdb",
   "metadata": {},
   "source": [
    "# Financial Predictive Modeling Project\n",
    "\n",
    "## Project Summary\n",
    "The objective of this project is to build a predictive model that estimates key financial metrics based on historical and synthetic data. By leveraging structured data, feature engineering, and regression modeling, the project aims to provide actionable insights for decision-makers. This model is intended to identify trends, support scenario analysis, and improve the accuracy of financial forecasts in a controlled environment.\n",
    "\n",
    "Accurate predictions are critical for stakeholders who rely on timely insights to make investment or operational decisions. Even small improvements in predictive accuracy can translate into better risk management, resource allocation, and strategic planning. By creating a robust and reproducible pipeline, this project ensures stakeholders can trust and act upon the results consistently.\n",
    "\n",
    "## Stakeholder Persona / Context\n",
    "| Stakeholder       | Role / Needs | Interests & Concerns |\n",
    "|------------------|-------------|--------------------|\n",
    "| Investment Analyst | Uses model outputs for portfolio strategy | Accuracy, timely delivery, interpretability |\n",
    "| Risk Manager       | Monitors potential exposure | Model reliability, error tracking, transparency |\n",
    "| Team Lead / PM     | Oversees project progress | Reproducibility, workflow clarity, deployment readiness |\n",
    "\n",
    "**Context Description:**  \n",
    "The primary users of this project are analysts and managers within a financial team who need clear, interpretable, and timely predictions. They care about accuracy, reliability, and the ability to audit and reproduce results. Ensuring a smooth workflow and clear communication of outputs is crucial for their decision-making."
   ]
  },
  {
   "cell_type": "markdown",
   "id": "b98b2b3f-0d61-446e-8333-abd7adb65e3e",
   "metadata": {},
   "source": [
    "## Python Fundamentals Summary"
   ]
  },
  {
   "cell_type": "code",
   "execution_count": 1,
   "id": "2eba7d4b-9b05-4234-bda3-2544371ad339",
   "metadata": {},
   "outputs": [
    {
     "data": {
      "text/html": [
       "<div>\n",
       "<style scoped>\n",
       "    .dataframe tbody tr th:only-of-type {\n",
       "        vertical-align: middle;\n",
       "    }\n",
       "\n",
       "    .dataframe tbody tr th {\n",
       "        vertical-align: top;\n",
       "    }\n",
       "\n",
       "    .dataframe thead th {\n",
       "        text-align: right;\n",
       "    }\n",
       "</style>\n",
       "<table border=\"1\" class=\"dataframe\">\n",
       "  <thead>\n",
       "    <tr style=\"text-align: right;\">\n",
       "      <th></th>\n",
       "      <th>name</th>\n",
       "      <th>age</th>\n",
       "      <th>salary</th>\n",
       "      <th>join_date</th>\n",
       "    </tr>\n",
       "  </thead>\n",
       "  <tbody>\n",
       "    <tr>\n",
       "      <th>0</th>\n",
       "      <td>Alice</td>\n",
       "      <td>25.0</td>\n",
       "      <td>70000.0</td>\n",
       "      <td>2023-01-15</td>\n",
       "    </tr>\n",
       "    <tr>\n",
       "      <th>1</th>\n",
       "      <td>Bob</td>\n",
       "      <td>NaN</td>\n",
       "      <td>80000.0</td>\n",
       "      <td>2022-11-30</td>\n",
       "    </tr>\n",
       "    <tr>\n",
       "      <th>2</th>\n",
       "      <td>Charlie</td>\n",
       "      <td>35.0</td>\n",
       "      <td>NaN</td>\n",
       "      <td>2023-03-20</td>\n",
       "    </tr>\n",
       "    <tr>\n",
       "      <th>3</th>\n",
       "      <td>David</td>\n",
       "      <td>40.0</td>\n",
       "      <td>90000.0</td>\n",
       "      <td>2022-03-20</td>\n",
       "    </tr>\n",
       "  </tbody>\n",
       "</table>\n",
       "</div>"
      ],
      "text/plain": [
       "      name   age   salary   join_date\n",
       "0    Alice  25.0  70000.0  2023-01-15\n",
       "1      Bob   NaN  80000.0  2022-11-30\n",
       "2  Charlie  35.0      NaN  2023-03-20\n",
       "3    David  40.0  90000.0  2022-03-20"
      ]
     },
     "execution_count": 1,
     "metadata": {},
     "output_type": "execute_result"
    }
   ],
   "source": [
    "import pandas as pd\n",
    "import numpy as np\n",
    "import sys\n",
    "from pathlib import Path\n",
    "\n",
    "project_root = Path().resolve().parent\n",
    "sys.path.append(str(project_root))\n",
    "from src.utils import parse_date_column, convert_column_type, fill_missing_values\n",
    "\n",
    "\n",
    "data = pd.DataFrame({\n",
    "    'name': ['Alice', 'Bob', 'Charlie', 'David'],\n",
    "    'age': [25, np.nan, 35, 40],\n",
    "    'salary': [70000, 80000, np.nan, 90000],\n",
    "    'join_date': ['2023-01-15', '2022-11-30', '2023-03-20', '2022-03-20']\n",
    "})\n",
    "\n",
    "data"
   ]
  },
  {
   "cell_type": "code",
   "execution_count": 2,
   "id": "04be5afe-c142-4690-9546-7f8ef297758e",
   "metadata": {},
   "outputs": [
    {
     "name": "stderr",
     "output_type": "stream",
     "text": [
      "/var/folders/xt/g4dt2xmn47x1nq6hz8n9pvl80000gn/T/ipykernel_35803/3626987102.py:4: UserWarning: The argument 'infer_datetime_format' is deprecated and will be removed in a future version. A strict version of it is now the default, see https://pandas.pydata.org/pdeps/0004-consistent-to-datetime-parsing.html. You can safely remove this argument.\n",
      "  data['join_date'] = pd.to_datetime(data['join_date'], infer_datetime_format=True, errors='coerce')\n"
     ]
    },
    {
     "data": {
      "text/html": [
       "<div>\n",
       "<style scoped>\n",
       "    .dataframe tbody tr th:only-of-type {\n",
       "        vertical-align: middle;\n",
       "    }\n",
       "\n",
       "    .dataframe tbody tr th {\n",
       "        vertical-align: top;\n",
       "    }\n",
       "\n",
       "    .dataframe thead th {\n",
       "        text-align: right;\n",
       "    }\n",
       "</style>\n",
       "<table border=\"1\" class=\"dataframe\">\n",
       "  <thead>\n",
       "    <tr style=\"text-align: right;\">\n",
       "      <th></th>\n",
       "      <th>name</th>\n",
       "      <th>age</th>\n",
       "      <th>salary</th>\n",
       "      <th>join_date</th>\n",
       "    </tr>\n",
       "  </thead>\n",
       "  <tbody>\n",
       "    <tr>\n",
       "      <th>0</th>\n",
       "      <td>Alice</td>\n",
       "      <td>25.0</td>\n",
       "      <td>70000.0</td>\n",
       "      <td>2023-01-15</td>\n",
       "    </tr>\n",
       "    <tr>\n",
       "      <th>1</th>\n",
       "      <td>Bob</td>\n",
       "      <td>NaN</td>\n",
       "      <td>80000.0</td>\n",
       "      <td>2022-11-30</td>\n",
       "    </tr>\n",
       "    <tr>\n",
       "      <th>2</th>\n",
       "      <td>Charlie</td>\n",
       "      <td>35.0</td>\n",
       "      <td>NaN</td>\n",
       "      <td>2023-03-20</td>\n",
       "    </tr>\n",
       "    <tr>\n",
       "      <th>3</th>\n",
       "      <td>David</td>\n",
       "      <td>40.0</td>\n",
       "      <td>90000.0</td>\n",
       "      <td>2022-03-20</td>\n",
       "    </tr>\n",
       "  </tbody>\n",
       "</table>\n",
       "</div>"
      ],
      "text/plain": [
       "      name   age   salary  join_date\n",
       "0    Alice  25.0  70000.0 2023-01-15\n",
       "1      Bob   NaN  80000.0 2022-11-30\n",
       "2  Charlie  35.0      NaN 2023-03-20\n",
       "3    David  40.0  90000.0 2022-03-20"
      ]
     },
     "execution_count": 2,
     "metadata": {},
     "output_type": "execute_result"
    }
   ],
   "source": [
    "# Convert age and salary columns to float\n",
    "data = convert_column_type(data, column='age', dtype='int')\n",
    "data = convert_column_type(data, column='salary', dtype='float')\n",
    "data['join_date'] = pd.to_datetime(data['join_date'], infer_datetime_format=True, errors='coerce')\n",
    "data"
   ]
  },
  {
   "cell_type": "code",
   "execution_count": 3,
   "id": "6c957b9c-80c0-4e64-a8ab-ec5c309863df",
   "metadata": {},
   "outputs": [
    {
     "data": {
      "text/html": [
       "<div>\n",
       "<style scoped>\n",
       "    .dataframe tbody tr th:only-of-type {\n",
       "        vertical-align: middle;\n",
       "    }\n",
       "\n",
       "    .dataframe tbody tr th {\n",
       "        vertical-align: top;\n",
       "    }\n",
       "\n",
       "    .dataframe thead th {\n",
       "        text-align: right;\n",
       "    }\n",
       "</style>\n",
       "<table border=\"1\" class=\"dataframe\">\n",
       "  <thead>\n",
       "    <tr style=\"text-align: right;\">\n",
       "      <th></th>\n",
       "      <th>name</th>\n",
       "      <th>age</th>\n",
       "      <th>salary</th>\n",
       "      <th>join_date</th>\n",
       "    </tr>\n",
       "  </thead>\n",
       "  <tbody>\n",
       "    <tr>\n",
       "      <th>0</th>\n",
       "      <td>Alice</td>\n",
       "      <td>25.000000</td>\n",
       "      <td>70000.0</td>\n",
       "      <td>2023-01-15</td>\n",
       "    </tr>\n",
       "    <tr>\n",
       "      <th>1</th>\n",
       "      <td>Bob</td>\n",
       "      <td>33.333333</td>\n",
       "      <td>80000.0</td>\n",
       "      <td>2022-11-30</td>\n",
       "    </tr>\n",
       "    <tr>\n",
       "      <th>2</th>\n",
       "      <td>Charlie</td>\n",
       "      <td>35.000000</td>\n",
       "      <td>80000.0</td>\n",
       "      <td>2023-03-20</td>\n",
       "    </tr>\n",
       "    <tr>\n",
       "      <th>3</th>\n",
       "      <td>David</td>\n",
       "      <td>40.000000</td>\n",
       "      <td>90000.0</td>\n",
       "      <td>2022-03-20</td>\n",
       "    </tr>\n",
       "  </tbody>\n",
       "</table>\n",
       "</div>"
      ],
      "text/plain": [
       "      name        age   salary  join_date\n",
       "0    Alice  25.000000  70000.0 2023-01-15\n",
       "1      Bob  33.333333  80000.0 2022-11-30\n",
       "2  Charlie  35.000000  80000.0 2023-03-20\n",
       "3    David  40.000000  90000.0 2022-03-20"
      ]
     },
     "execution_count": 3,
     "metadata": {},
     "output_type": "execute_result"
    }
   ],
   "source": [
    "# Fill missing values\n",
    "data = fill_missing_values(data, strategy='mean')\n",
    "data"
   ]
  },
  {
   "cell_type": "code",
   "execution_count": 4,
   "id": "1d0bee9b-c04f-492b-9368-2c683ac3df98",
   "metadata": {},
   "outputs": [
    {
     "name": "stdout",
     "output_type": "stream",
     "text": [
      "Mean age: 33.333333333333336\n",
      "Total salary: 320000.0\n",
      "\n",
      "DataFrame with new column 'salary_in_k':\n",
      "      name        age   salary  join_date  salary_in_k\n",
      "0    Alice  25.000000  70000.0 2023-01-15         70.0\n",
      "1      Bob  33.333333  80000.0 2022-11-30         80.0\n",
      "2  Charlie  35.000000  80000.0 2023-03-20         80.0\n",
      "3    David  40.000000  90000.0 2022-03-20         90.0\n",
      "\n",
      "Filtered DataFrame (salary > 75k):\n",
      "      name        age   salary  join_date  salary_in_k\n",
      "1      Bob  33.333333  80000.0 2022-11-30         80.0\n",
      "2  Charlie  35.000000  80000.0 2023-03-20         80.0\n",
      "3    David  40.000000  90000.0 2022-03-20         90.0\n"
     ]
    }
   ],
   "source": [
    "# Basic NumPy operations\n",
    "ages = data['age'].to_numpy()\n",
    "mean_age = np.mean(ages)\n",
    "print(\"Mean age:\", mean_age)\n",
    "\n",
    "salaries = data['salary'].to_numpy()\n",
    "total_salary = np.sum(salaries)\n",
    "print(\"Total salary:\", total_salary)\n",
    "\n",
    "# Basic pandas operations\n",
    "# Add a new calculated column\n",
    "data['salary_in_k'] = data['salary'] / 1000\n",
    "print(\"\\nDataFrame with new column 'salary_in_k':\")\n",
    "print(data)\n",
    "\n",
    "# Filter rows\n",
    "high_salary = data[data['salary'] > 75000]\n",
    "print(\"\\nFiltered DataFrame (salary > 75k):\")\n",
    "print(high_salary)"
   ]
  },
  {
   "cell_type": "markdown",
   "id": "8c6c51b2-9862-4be1-91d7-ce09f7266c9d",
   "metadata": {},
   "source": [
    "## Data Acquisition and Ingestion"
   ]
  },
  {
   "cell_type": "code",
   "execution_count": 5,
   "id": "e6b42db4-2845-4e68-b84d-3da4f8c6a035",
   "metadata": {},
   "outputs": [
    {
     "name": "stdout",
     "output_type": "stream",
     "text": [
      "Data saved to ../data/raw/ibm_daily_raw.csv\n"
     ]
    }
   ],
   "source": [
    "from src.data_ingestion import fetch_sample_data\n",
    "fetch_sample_data()"
   ]
  },
  {
   "cell_type": "markdown",
   "id": "9e8deff6-c35a-4e20-9a78-15135802fb47",
   "metadata": {},
   "source": [
    "## Data Storage(preview)"
   ]
  },
  {
   "cell_type": "code",
   "execution_count": 7,
   "id": "05e8ac8a-788b-4bc3-8055-e0e26b0a13fb",
   "metadata": {},
   "outputs": [
    {
     "name": "stdout",
     "output_type": "stream",
     "text": [
      "../data/raw/\n",
      "          date  1. open   2. high    3. low  4. close  5. volume\n",
      "0   2025-08-29  245.230  245.4599  241.7200    243.49    2967558\n",
      "1   2025-08-28  245.430  245.8800  243.3600    245.73    2820817\n",
      "2   2025-08-27  242.870  245.9600  242.0000    244.84    3698372\n",
      "3   2025-08-26  241.020  244.9800  240.3800    242.63    5386582\n",
      "4   2025-08-25  242.565  242.5650  239.4300    239.43    3513327\n",
      "..         ...      ...       ...       ...       ...        ...\n",
      "95  2025-04-14  239.770  241.7700  236.7300    239.06    3321717\n",
      "96  2025-04-11  229.720  237.5800  227.5100    235.48    4325895\n",
      "97  2025-04-10  231.000  232.5700  222.0200    229.55    5656108\n",
      "98  2025-04-09  217.120  236.3000  215.1636    235.31    7302808\n",
      "99  2025-04-08  232.560  233.0500  217.2800    221.03    6849996\n",
      "\n",
      "[100 rows x 6 columns]\n"
     ]
    }
   ],
   "source": [
    "import os\n",
    "import pandas as pd\n",
    "from dotenv import load_dotenv\n",
    "\n",
    "load_dotenv()\n",
    "DATA_PATH = os.getenv(\"DATA_PATH\", \"../data/raw/\")\n",
    "df = pd.read_csv(os.path.join(DATA_PATH, \"ibm_daily_raw.csv\"))\n",
    "print(DATA_PATH)\n",
    "print(df)"
   ]
  },
  {
   "cell_type": "markdown",
   "id": "8dd777d9-ae39-437f-894a-77799fd3de55",
   "metadata": {},
   "source": [
    "## Data Preprocessing"
   ]
  },
  {
   "cell_type": "code",
   "execution_count": 14,
   "id": "872a1d9c-3f0d-46f7-846e-6b00a202aab2",
   "metadata": {},
   "outputs": [],
   "source": [
    "import pandas as pd\n",
    "from src.cleaning import drop_missing_threshold, fill_missing, standardize_column_names\n",
    "\n",
    "# load data\n",
    "df = pd.read_csv(\"../data/raw/ibm_daily_raw.csv\")\n",
    "\n",
    "# cleaning\n",
    "df = drop_missing_threshold(df, threshold=0.4)\n",
    "df = fill_missing(df, \"1. open\", method=\"median\")\n",
    "\n",
    "# save\n",
    "df.to_csv(\"../data/processed/ibm_daily_clean.csv\", index=False)"
   ]
  },
  {
   "cell_type": "code",
   "execution_count": null,
   "id": "63194fb5-5ab8-48e1-bc29-822ac09f3a75",
   "metadata": {},
   "outputs": [],
   "source": []
  },
  {
   "cell_type": "code",
   "execution_count": null,
   "id": "7780a4cc-6c58-4f8b-b0be-dbf03639b214",
   "metadata": {},
   "outputs": [],
   "source": []
  },
  {
   "cell_type": "code",
   "execution_count": null,
   "id": "1a50bfac-98ac-4e57-9023-c91a60d05f31",
   "metadata": {},
   "outputs": [],
   "source": []
  }
 ],
 "metadata": {
  "kernelspec": {
   "display_name": "Python (bootcamp_env)",
   "language": "python",
   "name": "bootcamp_env"
  },
  "language_info": {
   "codemirror_mode": {
    "name": "ipython",
    "version": 3
   },
   "file_extension": ".py",
   "mimetype": "text/x-python",
   "name": "python",
   "nbconvert_exporter": "python",
   "pygments_lexer": "ipython3",
   "version": "3.10.18"
  }
 },
 "nbformat": 4,
 "nbformat_minor": 5
}
