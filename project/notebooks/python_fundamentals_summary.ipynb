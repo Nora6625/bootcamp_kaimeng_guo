{
 "cells": [
  {
   "cell_type": "markdown",
   "id": "42bb98f4-9767-4b0a-ae04-f2e1ba07ebdb",
   "metadata": {},
   "source": [
    "# Financial Predictive Modeling Project\n",
    "\n",
    "## Project Summary\n",
    "The objective of this project is to build a predictive model that estimates key financial metrics based on historical and synthetic data. By leveraging structured data, feature engineering, and regression modeling, the project aims to provide actionable insights for decision-makers. This model is intended to identify trends, support scenario analysis, and improve the accuracy of financial forecasts in a controlled environment.\n",
    "\n",
    "Accurate predictions are critical for stakeholders who rely on timely insights to make investment or operational decisions. Even small improvements in predictive accuracy can translate into better risk management, resource allocation, and strategic planning. By creating a robust and reproducible pipeline, this project ensures stakeholders can trust and act upon the results consistently.\n",
    "\n",
    "## Stakeholder Persona / Context\n",
    "| Stakeholder       | Role / Needs | Interests & Concerns |\n",
    "|------------------|-------------|--------------------|\n",
    "| Investment Analyst | Uses model outputs for portfolio strategy | Accuracy, timely delivery, interpretability |\n",
    "| Risk Manager       | Monitors potential exposure | Model reliability, error tracking, transparency |\n",
    "| Team Lead / PM     | Oversees project progress | Reproducibility, workflow clarity, deployment readiness |\n",
    "\n",
    "**Context Description:**  \n",
    "The primary users of this project are analysts and managers within a financial team who need clear, interpretable, and timely predictions. They care about accuracy, reliability, and the ability to audit and reproduce results. Ensuring a smooth workflow and clear communication of outputs is crucial for their decision-making."
   ]
  },
  {
   "cell_type": "markdown",
   "id": "b98b2b3f-0d61-446e-8333-abd7adb65e3e",
   "metadata": {},
   "source": [
    "## Python Fundamentals Summary"
   ]
  },
  {
   "cell_type": "code",
   "execution_count": 19,
   "id": "2eba7d4b-9b05-4234-bda3-2544371ad339",
   "metadata": {},
   "outputs": [
    {
     "data": {
      "text/html": [
       "<div>\n",
       "<style scoped>\n",
       "    .dataframe tbody tr th:only-of-type {\n",
       "        vertical-align: middle;\n",
       "    }\n",
       "\n",
       "    .dataframe tbody tr th {\n",
       "        vertical-align: top;\n",
       "    }\n",
       "\n",
       "    .dataframe thead th {\n",
       "        text-align: right;\n",
       "    }\n",
       "</style>\n",
       "<table border=\"1\" class=\"dataframe\">\n",
       "  <thead>\n",
       "    <tr style=\"text-align: right;\">\n",
       "      <th></th>\n",
       "      <th>name</th>\n",
       "      <th>age</th>\n",
       "      <th>salary</th>\n",
       "      <th>join_date</th>\n",
       "    </tr>\n",
       "  </thead>\n",
       "  <tbody>\n",
       "    <tr>\n",
       "      <th>0</th>\n",
       "      <td>Alice</td>\n",
       "      <td>25.0</td>\n",
       "      <td>70000.0</td>\n",
       "      <td>2023-01-15</td>\n",
       "    </tr>\n",
       "    <tr>\n",
       "      <th>1</th>\n",
       "      <td>Bob</td>\n",
       "      <td>NaN</td>\n",
       "      <td>80000.0</td>\n",
       "      <td>2022-11-30</td>\n",
       "    </tr>\n",
       "    <tr>\n",
       "      <th>2</th>\n",
       "      <td>Charlie</td>\n",
       "      <td>35.0</td>\n",
       "      <td>NaN</td>\n",
       "      <td>2023-03-20</td>\n",
       "    </tr>\n",
       "    <tr>\n",
       "      <th>3</th>\n",
       "      <td>David</td>\n",
       "      <td>40.0</td>\n",
       "      <td>90000.0</td>\n",
       "      <td>2022-03-20</td>\n",
       "    </tr>\n",
       "  </tbody>\n",
       "</table>\n",
       "</div>"
      ],
      "text/plain": [
       "      name   age   salary   join_date\n",
       "0    Alice  25.0  70000.0  2023-01-15\n",
       "1      Bob   NaN  80000.0  2022-11-30\n",
       "2  Charlie  35.0      NaN  2023-03-20\n",
       "3    David  40.0  90000.0  2022-03-20"
      ]
     },
     "execution_count": 19,
     "metadata": {},
     "output_type": "execute_result"
    }
   ],
   "source": [
    "import pandas as pd\n",
    "import numpy as np\n",
    "import sys\n",
    "from pathlib import Path\n",
    "\n",
    "project_root = Path().resolve().parent\n",
    "sys.path.append(str(project_root))\n",
    "from src.utils import parse_date_column, convert_column_type, fill_missing_values\n",
    "\n",
    "\n",
    "data = pd.DataFrame({\n",
    "    'name': ['Alice', 'Bob', 'Charlie', 'David'],\n",
    "    'age': [25, np.nan, 35, 40],\n",
    "    'salary': [70000, 80000, np.nan, 90000],\n",
    "    'join_date': ['2023-01-15', '2022-11-30', '2023-03-20', '2022-03-20']\n",
    "})\n",
    "\n",
    "data"
   ]
  },
  {
   "cell_type": "code",
   "execution_count": 20,
   "id": "04be5afe-c142-4690-9546-7f8ef297758e",
   "metadata": {},
   "outputs": [
    {
     "name": "stderr",
     "output_type": "stream",
     "text": [
      "/var/folders/xt/g4dt2xmn47x1nq6hz8n9pvl80000gn/T/ipykernel_34565/3626987102.py:4: UserWarning: The argument 'infer_datetime_format' is deprecated and will be removed in a future version. A strict version of it is now the default, see https://pandas.pydata.org/pdeps/0004-consistent-to-datetime-parsing.html. You can safely remove this argument.\n",
      "  data['join_date'] = pd.to_datetime(data['join_date'], infer_datetime_format=True, errors='coerce')\n"
     ]
    },
    {
     "data": {
      "text/html": [
       "<div>\n",
       "<style scoped>\n",
       "    .dataframe tbody tr th:only-of-type {\n",
       "        vertical-align: middle;\n",
       "    }\n",
       "\n",
       "    .dataframe tbody tr th {\n",
       "        vertical-align: top;\n",
       "    }\n",
       "\n",
       "    .dataframe thead th {\n",
       "        text-align: right;\n",
       "    }\n",
       "</style>\n",
       "<table border=\"1\" class=\"dataframe\">\n",
       "  <thead>\n",
       "    <tr style=\"text-align: right;\">\n",
       "      <th></th>\n",
       "      <th>name</th>\n",
       "      <th>age</th>\n",
       "      <th>salary</th>\n",
       "      <th>join_date</th>\n",
       "    </tr>\n",
       "  </thead>\n",
       "  <tbody>\n",
       "    <tr>\n",
       "      <th>0</th>\n",
       "      <td>Alice</td>\n",
       "      <td>25.0</td>\n",
       "      <td>70000.0</td>\n",
       "      <td>2023-01-15</td>\n",
       "    </tr>\n",
       "    <tr>\n",
       "      <th>1</th>\n",
       "      <td>Bob</td>\n",
       "      <td>NaN</td>\n",
       "      <td>80000.0</td>\n",
       "      <td>2022-11-30</td>\n",
       "    </tr>\n",
       "    <tr>\n",
       "      <th>2</th>\n",
       "      <td>Charlie</td>\n",
       "      <td>35.0</td>\n",
       "      <td>NaN</td>\n",
       "      <td>2023-03-20</td>\n",
       "    </tr>\n",
       "    <tr>\n",
       "      <th>3</th>\n",
       "      <td>David</td>\n",
       "      <td>40.0</td>\n",
       "      <td>90000.0</td>\n",
       "      <td>2022-03-20</td>\n",
       "    </tr>\n",
       "  </tbody>\n",
       "</table>\n",
       "</div>"
      ],
      "text/plain": [
       "      name   age   salary  join_date\n",
       "0    Alice  25.0  70000.0 2023-01-15\n",
       "1      Bob   NaN  80000.0 2022-11-30\n",
       "2  Charlie  35.0      NaN 2023-03-20\n",
       "3    David  40.0  90000.0 2022-03-20"
      ]
     },
     "execution_count": 20,
     "metadata": {},
     "output_type": "execute_result"
    }
   ],
   "source": [
    "# Convert age and salary columns to float\n",
    "data = convert_column_type(data, column='age', dtype='int')\n",
    "data = convert_column_type(data, column='salary', dtype='float')\n",
    "data['join_date'] = pd.to_datetime(data['join_date'], infer_datetime_format=True, errors='coerce')\n",
    "data"
   ]
  },
  {
   "cell_type": "code",
   "execution_count": 21,
   "id": "6c957b9c-80c0-4e64-a8ab-ec5c309863df",
   "metadata": {},
   "outputs": [
    {
     "data": {
      "text/html": [
       "<div>\n",
       "<style scoped>\n",
       "    .dataframe tbody tr th:only-of-type {\n",
       "        vertical-align: middle;\n",
       "    }\n",
       "\n",
       "    .dataframe tbody tr th {\n",
       "        vertical-align: top;\n",
       "    }\n",
       "\n",
       "    .dataframe thead th {\n",
       "        text-align: right;\n",
       "    }\n",
       "</style>\n",
       "<table border=\"1\" class=\"dataframe\">\n",
       "  <thead>\n",
       "    <tr style=\"text-align: right;\">\n",
       "      <th></th>\n",
       "      <th>name</th>\n",
       "      <th>age</th>\n",
       "      <th>salary</th>\n",
       "      <th>join_date</th>\n",
       "    </tr>\n",
       "  </thead>\n",
       "  <tbody>\n",
       "    <tr>\n",
       "      <th>0</th>\n",
       "      <td>Alice</td>\n",
       "      <td>25.000000</td>\n",
       "      <td>70000.0</td>\n",
       "      <td>2023-01-15</td>\n",
       "    </tr>\n",
       "    <tr>\n",
       "      <th>1</th>\n",
       "      <td>Bob</td>\n",
       "      <td>33.333333</td>\n",
       "      <td>80000.0</td>\n",
       "      <td>2022-11-30</td>\n",
       "    </tr>\n",
       "    <tr>\n",
       "      <th>2</th>\n",
       "      <td>Charlie</td>\n",
       "      <td>35.000000</td>\n",
       "      <td>80000.0</td>\n",
       "      <td>2023-03-20</td>\n",
       "    </tr>\n",
       "    <tr>\n",
       "      <th>3</th>\n",
       "      <td>David</td>\n",
       "      <td>40.000000</td>\n",
       "      <td>90000.0</td>\n",
       "      <td>2022-03-20</td>\n",
       "    </tr>\n",
       "  </tbody>\n",
       "</table>\n",
       "</div>"
      ],
      "text/plain": [
       "      name        age   salary  join_date\n",
       "0    Alice  25.000000  70000.0 2023-01-15\n",
       "1      Bob  33.333333  80000.0 2022-11-30\n",
       "2  Charlie  35.000000  80000.0 2023-03-20\n",
       "3    David  40.000000  90000.0 2022-03-20"
      ]
     },
     "execution_count": 21,
     "metadata": {},
     "output_type": "execute_result"
    }
   ],
   "source": [
    "# Fill missing values\n",
    "data = fill_missing_values(data, strategy='mean')\n",
    "data"
   ]
  },
  {
   "cell_type": "code",
   "execution_count": 25,
   "id": "1d0bee9b-c04f-492b-9368-2c683ac3df98",
   "metadata": {},
   "outputs": [
    {
     "name": "stdout",
     "output_type": "stream",
     "text": [
      "Mean age: 33.333333333333336\n",
      "Total salary: 320000.0\n",
      "\n",
      "DataFrame with new column 'salary_in_k':\n",
      "      name        age   salary  join_date  salary_in_k\n",
      "0    Alice  25.000000  70000.0 2023-01-15         70.0\n",
      "1      Bob  33.333333  80000.0 2022-11-30         80.0\n",
      "2  Charlie  35.000000  80000.0 2023-03-20         80.0\n",
      "3    David  40.000000  90000.0 2022-03-20         90.0\n",
      "\n",
      "Filtered DataFrame (salary > 75k):\n",
      "      name        age   salary  join_date  salary_in_k\n",
      "1      Bob  33.333333  80000.0 2022-11-30         80.0\n",
      "2  Charlie  35.000000  80000.0 2023-03-20         80.0\n",
      "3    David  40.000000  90000.0 2022-03-20         90.0\n"
     ]
    }
   ],
   "source": [
    "# Basic NumPy operations\n",
    "ages = data['age'].to_numpy()\n",
    "mean_age = np.mean(ages)\n",
    "print(\"Mean age:\", mean_age)\n",
    "\n",
    "salaries = data['salary'].to_numpy()\n",
    "total_salary = np.sum(salaries)\n",
    "print(\"Total salary:\", total_salary)\n",
    "\n",
    "# Basic pandas operations\n",
    "# Add a new calculated column\n",
    "data['salary_in_k'] = data['salary'] / 1000\n",
    "print(\"\\nDataFrame with new column 'salary_in_k':\")\n",
    "print(data)\n",
    "\n",
    "# Filter rows\n",
    "high_salary = data[data['salary'] > 75000]\n",
    "print(\"\\nFiltered DataFrame (salary > 75k):\")\n",
    "print(high_salary)"
   ]
  },
  {
   "cell_type": "code",
   "execution_count": null,
   "id": "7c596c3c-fd6e-4813-be0e-e76eb9aae965",
   "metadata": {},
   "outputs": [],
   "source": []
  }
 ],
 "metadata": {
  "kernelspec": {
   "display_name": "Python (bootcamp_env)",
   "language": "python",
   "name": "bootcamp_env"
  },
  "language_info": {
   "codemirror_mode": {
    "name": "ipython",
    "version": 3
   },
   "file_extension": ".py",
   "mimetype": "text/x-python",
   "name": "python",
   "nbconvert_exporter": "python",
   "pygments_lexer": "ipython3",
   "version": "3.10.18"
  }
 },
 "nbformat": 4,
 "nbformat_minor": 5
}
