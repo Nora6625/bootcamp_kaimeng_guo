from dotenv import load_dotenv
import os
import numpy as np

load_dotenv()
print("API_KEY present:", os.getenv("API_KEY") is not None)

arr = np.array([2,4,6,8])
arr1 = arr * 2
arr2 = arr - 2
print(arr1, arr2)
