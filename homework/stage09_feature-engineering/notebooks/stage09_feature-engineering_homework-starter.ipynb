{
 "cells": [
  {
   "cell_type": "markdown",
   "id": "cc61ba02",
   "metadata": {},
   "source": [
    "# Stage 09 — Homework Starter Notebook\n",
    "\n",
    "In the lecture, we learned how to create engineered features. Now it’s your turn to apply those ideas to your own project data."
   ]
  },
  {
   "cell_type": "code",
   "execution_count": 1,
   "id": "1d8404bb",
   "metadata": {},
   "outputs": [
    {
     "data": {
      "text/html": [
       "<div>\n",
       "<style scoped>\n",
       "    .dataframe tbody tr th:only-of-type {\n",
       "        vertical-align: middle;\n",
       "    }\n",
       "\n",
       "    .dataframe tbody tr th {\n",
       "        vertical-align: top;\n",
       "    }\n",
       "\n",
       "    .dataframe thead th {\n",
       "        text-align: right;\n",
       "    }\n",
       "</style>\n",
       "<table border=\"1\" class=\"dataframe\">\n",
       "  <thead>\n",
       "    <tr style=\"text-align: right;\">\n",
       "      <th></th>\n",
       "      <th>customer_id</th>\n",
       "      <th>age</th>\n",
       "      <th>income</th>\n",
       "      <th>monthly_spend</th>\n",
       "      <th>credit_score</th>\n",
       "    </tr>\n",
       "  </thead>\n",
       "  <tbody>\n",
       "    <tr>\n",
       "      <th>0</th>\n",
       "      <td>1</td>\n",
       "      <td>54.1</td>\n",
       "      <td>70611.28</td>\n",
       "      <td>1778</td>\n",
       "      <td>614</td>\n",
       "    </tr>\n",
       "    <tr>\n",
       "      <th>1</th>\n",
       "      <td>2</td>\n",
       "      <td>43.2</td>\n",
       "      <td>26787.01</td>\n",
       "      <td>1856</td>\n",
       "      <td>762</td>\n",
       "    </tr>\n",
       "    <tr>\n",
       "      <th>2</th>\n",
       "      <td>3</td>\n",
       "      <td>47.8</td>\n",
       "      <td>27415.24</td>\n",
       "      <td>2659</td>\n",
       "      <td>674</td>\n",
       "    </tr>\n",
       "    <tr>\n",
       "      <th>3</th>\n",
       "      <td>4</td>\n",
       "      <td>57.9</td>\n",
       "      <td>53681.25</td>\n",
       "      <td>2393</td>\n",
       "      <td>645</td>\n",
       "    </tr>\n",
       "    <tr>\n",
       "      <th>4</th>\n",
       "      <td>5</td>\n",
       "      <td>54.9</td>\n",
       "      <td>28227.81</td>\n",
       "      <td>2384</td>\n",
       "      <td>713</td>\n",
       "    </tr>\n",
       "  </tbody>\n",
       "</table>\n",
       "</div>"
      ],
      "text/plain": [
       "   customer_id   age    income  monthly_spend  credit_score\n",
       "0            1  54.1  70611.28           1778           614\n",
       "1            2  43.2  26787.01           1856           762\n",
       "2            3  47.8  27415.24           2659           674\n",
       "3            4  57.9  53681.25           2393           645\n",
       "4            5  54.9  28227.81           2384           713"
      ]
     },
     "execution_count": 1,
     "metadata": {},
     "output_type": "execute_result"
    }
   ],
   "source": [
    "import pandas as pd\n",
    "import numpy as np\n",
    "\n",
    "np.random.seed(0)\n",
    "n = 100\n",
    "\n",
    "df = pd.DataFrame({\n",
    "    'customer_id': range(1, n+1),\n",
    "    'age': np.random.normal(40, 8, size=n).clip(22, 70).round(1),\n",
    "    'income': np.random.lognormal(mean=10.6, sigma=0.3, size=n).round(2),\n",
    "    'monthly_spend': np.random.normal(2000, 600, n).astype(int),\n",
    "    'credit_score': np.random.normal(680, 50, n).astype(int)\n",
    "})\n",
    "df.head()"
   ]
  },
  {
   "cell_type": "markdown",
   "id": "bbca9307",
   "metadata": {},
   "source": [
    "## TODO: Implement at least 2 engineered features here"
   ]
  },
  {
   "cell_type": "markdown",
   "id": "ce72533d",
   "metadata": {},
   "source": [
    "### Rationale for Feature 1\n",
    "Explain why this feature may help a model. Reference your EDA."
   ]
  },
  {
   "cell_type": "code",
   "execution_count": 2,
   "id": "edd57b3f",
   "metadata": {},
   "outputs": [
    {
     "data": {
      "text/html": [
       "<div>\n",
       "<style scoped>\n",
       "    .dataframe tbody tr th:only-of-type {\n",
       "        vertical-align: middle;\n",
       "    }\n",
       "\n",
       "    .dataframe tbody tr th {\n",
       "        vertical-align: top;\n",
       "    }\n",
       "\n",
       "    .dataframe thead th {\n",
       "        text-align: right;\n",
       "    }\n",
       "</style>\n",
       "<table border=\"1\" class=\"dataframe\">\n",
       "  <thead>\n",
       "    <tr style=\"text-align: right;\">\n",
       "      <th></th>\n",
       "      <th>income</th>\n",
       "      <th>monthly_spend</th>\n",
       "      <th>spend_income_ratio</th>\n",
       "    </tr>\n",
       "  </thead>\n",
       "  <tbody>\n",
       "    <tr>\n",
       "      <th>0</th>\n",
       "      <td>70611.28</td>\n",
       "      <td>1778</td>\n",
       "      <td>0.025180</td>\n",
       "    </tr>\n",
       "    <tr>\n",
       "      <th>1</th>\n",
       "      <td>26787.01</td>\n",
       "      <td>1856</td>\n",
       "      <td>0.069287</td>\n",
       "    </tr>\n",
       "    <tr>\n",
       "      <th>2</th>\n",
       "      <td>27415.24</td>\n",
       "      <td>2659</td>\n",
       "      <td>0.096990</td>\n",
       "    </tr>\n",
       "    <tr>\n",
       "      <th>3</th>\n",
       "      <td>53681.25</td>\n",
       "      <td>2393</td>\n",
       "      <td>0.044578</td>\n",
       "    </tr>\n",
       "    <tr>\n",
       "      <th>4</th>\n",
       "      <td>28227.81</td>\n",
       "      <td>2384</td>\n",
       "      <td>0.084456</td>\n",
       "    </tr>\n",
       "  </tbody>\n",
       "</table>\n",
       "</div>"
      ],
      "text/plain": [
       "     income  monthly_spend  spend_income_ratio\n",
       "0  70611.28           1778            0.025180\n",
       "1  26787.01           1856            0.069287\n",
       "2  27415.24           2659            0.096990\n",
       "3  53681.25           2393            0.044578\n",
       "4  28227.81           2384            0.084456"
      ]
     },
     "execution_count": 2,
     "metadata": {},
     "output_type": "execute_result"
    }
   ],
   "source": [
    "# Feature 1: Spend-to-Income Ratio\n",
    "df['spend_income_ratio'] = df['monthly_spend'] / df['income'] \n",
    "df[['income','monthly_spend','spend_income_ratio']].head()"
   ]
  },
  {
   "cell_type": "markdown",
   "id": "fd7ef728-b898-4eeb-aac2-0b755c351465",
   "metadata": {},
   "source": [
    "This feature captures how much a person spends relative to their income.\n",
    "- From EDA, we saw that income is heavily right-skewed while spend varies widely.\n",
    "- Raw values may not fully reflect affordability.\n",
    "- Normalizing spend by income provides a proportional measure, which is often more predictive of financial stability."
   ]
  },
  {
   "cell_type": "markdown",
   "id": "1f9a7a00",
   "metadata": {},
   "source": [
    "### Rationale for Feature 2\n",
    "Explain why this feature may help a model. Reference your EDA."
   ]
  },
  {
   "cell_type": "code",
   "execution_count": 3,
   "id": "6b99e031",
   "metadata": {},
   "outputs": [
    {
     "data": {
      "text/html": [
       "<div>\n",
       "<style scoped>\n",
       "    .dataframe tbody tr th:only-of-type {\n",
       "        vertical-align: middle;\n",
       "    }\n",
       "\n",
       "    .dataframe tbody tr th {\n",
       "        vertical-align: top;\n",
       "    }\n",
       "\n",
       "    .dataframe thead th {\n",
       "        text-align: right;\n",
       "    }\n",
       "</style>\n",
       "<table border=\"1\" class=\"dataframe\">\n",
       "  <thead>\n",
       "    <tr style=\"text-align: right;\">\n",
       "      <th></th>\n",
       "      <th>monthly_spend</th>\n",
       "      <th>rolling_spend_mean</th>\n",
       "    </tr>\n",
       "  </thead>\n",
       "  <tbody>\n",
       "    <tr>\n",
       "      <th>0</th>\n",
       "      <td>1778</td>\n",
       "      <td>1778.000000</td>\n",
       "    </tr>\n",
       "    <tr>\n",
       "      <th>1</th>\n",
       "      <td>1856</td>\n",
       "      <td>1817.000000</td>\n",
       "    </tr>\n",
       "    <tr>\n",
       "      <th>2</th>\n",
       "      <td>2659</td>\n",
       "      <td>2097.666667</td>\n",
       "    </tr>\n",
       "    <tr>\n",
       "      <th>3</th>\n",
       "      <td>2393</td>\n",
       "      <td>2302.666667</td>\n",
       "    </tr>\n",
       "    <tr>\n",
       "      <th>4</th>\n",
       "      <td>2384</td>\n",
       "      <td>2478.666667</td>\n",
       "    </tr>\n",
       "    <tr>\n",
       "      <th>5</th>\n",
       "      <td>1029</td>\n",
       "      <td>1935.333333</td>\n",
       "    </tr>\n",
       "    <tr>\n",
       "      <th>6</th>\n",
       "      <td>1985</td>\n",
       "      <td>1799.333333</td>\n",
       "    </tr>\n",
       "    <tr>\n",
       "      <th>7</th>\n",
       "      <td>1557</td>\n",
       "      <td>1523.666667</td>\n",
       "    </tr>\n",
       "    <tr>\n",
       "      <th>8</th>\n",
       "      <td>2167</td>\n",
       "      <td>1903.000000</td>\n",
       "    </tr>\n",
       "    <tr>\n",
       "      <th>9</th>\n",
       "      <td>1941</td>\n",
       "      <td>1888.333333</td>\n",
       "    </tr>\n",
       "  </tbody>\n",
       "</table>\n",
       "</div>"
      ],
      "text/plain": [
       "   monthly_spend  rolling_spend_mean\n",
       "0           1778         1778.000000\n",
       "1           1856         1817.000000\n",
       "2           2659         2097.666667\n",
       "3           2393         2302.666667\n",
       "4           2384         2478.666667\n",
       "5           1029         1935.333333\n",
       "6           1985         1799.333333\n",
       "7           1557         1523.666667\n",
       "8           2167         1903.000000\n",
       "9           1941         1888.333333"
      ]
     },
     "execution_count": 3,
     "metadata": {},
     "output_type": "execute_result"
    }
   ],
   "source": [
    "# Feature 2: Rolling Spend Mean \n",
    "df['rolling_spend_mean'] = df['monthly_spend'].rolling(window=3, min_periods=1).mean()\n",
    "df[['monthly_spend','rolling_spend_mean']].head(10)"
   ]
  },
  {
   "cell_type": "markdown",
   "id": "f51e26ee-43b6-46b1-ab11-cc2924d9d65a",
   "metadata": {},
   "source": [
    "This feature captures short-term trends in spending behavior.\n",
    "- Spending may fluctuate monthly, but a rolling average smooths noise and highlights recent habits.\n",
    "- This is useful if the target variable is linked to behavior consistency (e.g., stable vs. volatile spenders).\n",
    "- From EDA, we noticed occasional spikes; smoothing helps reduce the impact of single outliers."
   ]
  }
 ],
 "metadata": {
  "kernelspec": {
   "display_name": "Python 3 (ipykernel)",
   "language": "python",
   "name": "python3"
  },
  "language_info": {
   "codemirror_mode": {
    "name": "ipython",
    "version": 3
   },
   "file_extension": ".py",
   "mimetype": "text/x-python",
   "name": "python",
   "nbconvert_exporter": "python",
   "pygments_lexer": "ipython3",
   "version": "3.11.13"
  }
 },
 "nbformat": 4,
 "nbformat_minor": 5
}
